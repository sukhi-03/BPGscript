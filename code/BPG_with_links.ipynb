{
 "cells": [
  {
   "cell_type": "code",
   "execution_count": null,
   "id": "03b14709-ad5d-42a3-ab6f-cb5645c8e6ad",
   "metadata": {},
   "outputs": [],
   "source": [
    "import pandas as pd\n",
    "import requests\n",
    "import os\n",
    "\n",
    "# Path to your Excel file\n",
    "excel_file = 'TopBPG_byVolume 2 (2).xlsx'\n",
    "\n",
    "# Read the Excel file\n",
    "df = pd.read_excel(excel_file, sheet_name=\"Next 500\")  # Use correct sheet name\n",
    "\n",
    "# Create a folder to save PDFs\n",
    "output_folder = \"downloaded_pdfs_2\"\n",
    "os.makedirs(output_folder, exist_ok=True)\n",
    "\n",
    "# List to store successful downloads\n",
    "download_log = []\n",
    "\n",
    "# Loop through the rows and download the PDF from each link\n",
    "for idx, row in df.iterrows():\n",
    "    pdf_url = row.get(\"PDF LINK\")\n",
    "    if pd.notna(pdf_url):\n",
    "        try:\n",
    "            response = requests.get(pdf_url, timeout=10)\n",
    "            if response.status_code == 200:\n",
    "                filename = f\"pdf_{idx + 1}.pdf\"\n",
    "                filepath = os.path.join(output_folder, filename)\n",
    "                with open(filepath, \"wb\") as f:\n",
    "                    f.write(response.content)\n",
    "                print(f\"Downloaded: {filename}\")\n",
    "                download_log.append({\"File Name\": filename, \"PDF LINK\": pdf_url})\n",
    "            else:\n",
    "                print(f\"Failed to download (status {response.status_code}): {pdf_url}\")\n",
    "        except Exception as e:\n",
    "            print(f\"Error downloading {pdf_url}: {e}\")\n",
    "\n",
    "# Save the log to a new Excel file\n",
    "log_df = pd.DataFrame(download_log)\n",
    "log_df.to_excel(\"Download_Log.xlsx\", index=False)\n",
    "print(\"Download log saved to Download_Log.xlsx\")\n"
   ]
  },
  {
   "cell_type": "code",
   "execution_count": null,
   "id": "428a9504-e98e-4dec-947b-4e84afc5c37c",
   "metadata": {},
   "outputs": [],
   "source": []
  }
 ],
 "metadata": {
  "kernelspec": {
   "display_name": "Python 3 (ipykernel)",
   "language": "python",
   "name": "python3"
  },
  "language_info": {
   "codemirror_mode": {
    "name": "ipython",
    "version": 3
   },
   "file_extension": ".py",
   "mimetype": "text/x-python",
   "name": "python",
   "nbconvert_exporter": "python",
   "pygments_lexer": "ipython3",
   "version": "3.11.10"
  }
 },
 "nbformat": 4,
 "nbformat_minor": 5
}
