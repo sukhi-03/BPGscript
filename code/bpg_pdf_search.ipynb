{
 "cells": [
  {
   "cell_type": "markdown",
   "id": "40446a63",
   "metadata": {},
   "source": [
    "Author: Aditya"
   ]
  },
  {
   "cell_type": "code",
   "execution_count": 1,
   "id": "20f0b041",
   "metadata": {},
   "outputs": [],
   "source": [
    "import pandas as pd\n",
    "import numpy as np"
   ]
  },
  {
   "cell_type": "code",
   "execution_count": 2,
   "id": "0cefe0fa",
   "metadata": {},
   "outputs": [],
   "source": [
    "plans_df = pd.read_excel(\"key_top10k_links.xlsx\", header=0, sheet_name=\"unique-linksearch\")"
   ]
  },
  {
   "cell_type": "code",
   "execution_count": 3,
   "id": "c1cd4185",
   "metadata": {},
   "outputs": [
    {
     "data": {
      "application/vnd.microsoft.datawrangler.viewer.v0+json": {
       "columns": [
        {
         "name": "index",
         "rawType": "int64",
         "type": "integer"
        },
        {
         "name": "index",
         "rawType": "int64",
         "type": "integer"
        },
        {
         "name": "BIN_top10k",
         "rawType": "int64",
         "type": "integer"
        },
        {
         "name": "PCN_top10k",
         "rawType": "object",
         "type": "string"
        },
        {
         "name": "GRP_top10k",
         "rawType": "object",
         "type": "unknown"
        },
        {
         "name": "PLAN_NAME",
         "rawType": "object",
         "type": "unknown"
        },
        {
         "name": "ROW_CNT",
         "rawType": "int64",
         "type": "integer"
        },
        {
         "name": "RATIO",
         "rawType": "float64",
         "type": "float"
        },
        {
         "name": "BPG_top10k",
         "rawType": "object",
         "type": "string"
        },
        {
         "name": "COMMENTS",
         "rawType": "object",
         "type": "unknown"
        },
        {
         "name": "PDF_LINKS",
         "rawType": "object",
         "type": "unknown"
        },
        {
         "name": "Assigned_to",
         "rawType": "object",
         "type": "string"
        }
       ],
       "ref": "a7f61b58-96f6-4f81-83a5-40ada59a47a8",
       "rows": [
        [
         "0",
         "154",
         "17423",
         "IRX",
         "AMERISAV",
         null,
         "18004261",
         "0.000725",
         "017423IRXAMERISAV",
         "not found",
         null,
         "Aditya"
        ],
        [
         "1",
         "157",
         "1553",
         "GAM",
         null,
         "MEDICAID GEORGIA",
         "17778171",
         "0.000716",
         "001553GAM(NULL)",
         null,
         "https://professionals.optumrx.com/content/dam/optum3/professional-optumrx/resources/payer-sheets/2021OptumRxCommercial-Medicaid.pdf",
         "Aditya"
        ],
        [
         "2",
         "161",
         "4336",
         "ADV",
         "RX1021",
         "PCS ADVANCE PARADIGM",
         "17514092",
         "0.000706",
         "004336ADVRX1021",
         null,
         "https://www.caremark.com/portal/asset/D0PayerSheetMEDDMSP.pdf",
         "Aditya"
        ],
        [
         "3",
         "162",
         "610502",
         "00670000",
         "RX7704",
         "AETNA",
         "17450172",
         "0.000703",
         "61050200670000RX7704",
         null,
         "https://www.caremark.com/portal/asset/D0PayerSheetCOM.pdf",
         "Aditya"
        ],
        [
         "4",
         "163",
         "3858",
         "A4",
         "PMDM",
         "EXPRESS SCRIPTS",
         "17282267",
         "0.000696",
         "003858A4PMDM",
         null,
         "https://www.express-scripts.com/art/prc/NCPDP_vD0_Commercial_Combined_Payer_Sheet.pdf",
         "Aditya"
        ]
       ],
       "shape": {
        "columns": 11,
        "rows": 5
       }
      },
      "text/html": [
       "<div>\n",
       "<style scoped>\n",
       "    .dataframe tbody tr th:only-of-type {\n",
       "        vertical-align: middle;\n",
       "    }\n",
       "\n",
       "    .dataframe tbody tr th {\n",
       "        vertical-align: top;\n",
       "    }\n",
       "\n",
       "    .dataframe thead th {\n",
       "        text-align: right;\n",
       "    }\n",
       "</style>\n",
       "<table border=\"1\" class=\"dataframe\">\n",
       "  <thead>\n",
       "    <tr style=\"text-align: right;\">\n",
       "      <th></th>\n",
       "      <th>index</th>\n",
       "      <th>BIN_top10k</th>\n",
       "      <th>PCN_top10k</th>\n",
       "      <th>GRP_top10k</th>\n",
       "      <th>PLAN_NAME</th>\n",
       "      <th>ROW_CNT</th>\n",
       "      <th>RATIO</th>\n",
       "      <th>BPG_top10k</th>\n",
       "      <th>COMMENTS</th>\n",
       "      <th>PDF_LINKS</th>\n",
       "      <th>Assigned_to</th>\n",
       "    </tr>\n",
       "  </thead>\n",
       "  <tbody>\n",
       "    <tr>\n",
       "      <th>0</th>\n",
       "      <td>154</td>\n",
       "      <td>17423</td>\n",
       "      <td>IRX</td>\n",
       "      <td>AMERISAV</td>\n",
       "      <td>NaN</td>\n",
       "      <td>18004261</td>\n",
       "      <td>0.000725</td>\n",
       "      <td>017423IRXAMERISAV</td>\n",
       "      <td>not found</td>\n",
       "      <td>NaN</td>\n",
       "      <td>Aditya</td>\n",
       "    </tr>\n",
       "    <tr>\n",
       "      <th>1</th>\n",
       "      <td>157</td>\n",
       "      <td>1553</td>\n",
       "      <td>GAM</td>\n",
       "      <td>NaN</td>\n",
       "      <td>MEDICAID GEORGIA</td>\n",
       "      <td>17778171</td>\n",
       "      <td>0.000716</td>\n",
       "      <td>001553GAM(NULL)</td>\n",
       "      <td>NaN</td>\n",
       "      <td>https://professionals.optumrx.com/content/dam/...</td>\n",
       "      <td>Aditya</td>\n",
       "    </tr>\n",
       "    <tr>\n",
       "      <th>2</th>\n",
       "      <td>161</td>\n",
       "      <td>4336</td>\n",
       "      <td>ADV</td>\n",
       "      <td>RX1021</td>\n",
       "      <td>PCS ADVANCE PARADIGM</td>\n",
       "      <td>17514092</td>\n",
       "      <td>0.000706</td>\n",
       "      <td>004336ADVRX1021</td>\n",
       "      <td>NaN</td>\n",
       "      <td>https://www.caremark.com/portal/asset/D0PayerS...</td>\n",
       "      <td>Aditya</td>\n",
       "    </tr>\n",
       "    <tr>\n",
       "      <th>3</th>\n",
       "      <td>162</td>\n",
       "      <td>610502</td>\n",
       "      <td>00670000</td>\n",
       "      <td>RX7704</td>\n",
       "      <td>AETNA</td>\n",
       "      <td>17450172</td>\n",
       "      <td>0.000703</td>\n",
       "      <td>61050200670000RX7704</td>\n",
       "      <td>NaN</td>\n",
       "      <td>https://www.caremark.com/portal/asset/D0PayerS...</td>\n",
       "      <td>Aditya</td>\n",
       "    </tr>\n",
       "    <tr>\n",
       "      <th>4</th>\n",
       "      <td>163</td>\n",
       "      <td>3858</td>\n",
       "      <td>A4</td>\n",
       "      <td>PMDM</td>\n",
       "      <td>EXPRESS SCRIPTS</td>\n",
       "      <td>17282267</td>\n",
       "      <td>0.000696</td>\n",
       "      <td>003858A4PMDM</td>\n",
       "      <td>NaN</td>\n",
       "      <td>https://www.express-scripts.com/art/prc/NCPDP_...</td>\n",
       "      <td>Aditya</td>\n",
       "    </tr>\n",
       "  </tbody>\n",
       "</table>\n",
       "</div>"
      ],
      "text/plain": [
       "   index  BIN_top10k PCN_top10k GRP_top10k             PLAN_NAME   ROW_CNT  \\\n",
       "0    154       17423        IRX   AMERISAV                   NaN  18004261   \n",
       "1    157        1553        GAM        NaN      MEDICAID GEORGIA  17778171   \n",
       "2    161        4336        ADV     RX1021  PCS ADVANCE PARADIGM  17514092   \n",
       "3    162      610502   00670000     RX7704                 AETNA  17450172   \n",
       "4    163        3858         A4       PMDM       EXPRESS SCRIPTS  17282267   \n",
       "\n",
       "      RATIO            BPG_top10k   COMMENTS  \\\n",
       "0  0.000725     017423IRXAMERISAV  not found   \n",
       "1  0.000716       001553GAM(NULL)        NaN   \n",
       "2  0.000706       004336ADVRX1021        NaN   \n",
       "3  0.000703  61050200670000RX7704        NaN   \n",
       "4  0.000696          003858A4PMDM        NaN   \n",
       "\n",
       "                                           PDF_LINKS Assigned_to  \n",
       "0                                                NaN      Aditya  \n",
       "1  https://professionals.optumrx.com/content/dam/...      Aditya  \n",
       "2  https://www.caremark.com/portal/asset/D0PayerS...      Aditya  \n",
       "3  https://www.caremark.com/portal/asset/D0PayerS...      Aditya  \n",
       "4  https://www.express-scripts.com/art/prc/NCPDP_...      Aditya  "
      ]
     },
     "execution_count": 3,
     "metadata": {},
     "output_type": "execute_result"
    }
   ],
   "source": [
    "plans_df.head()"
   ]
  },
  {
   "cell_type": "code",
   "execution_count": 4,
   "id": "51b1b283",
   "metadata": {},
   "outputs": [],
   "source": [
    "plans_df = plans_df[(plans_df[\"Assigned_to\"] == \"Aditya\") & (plans_df[\"PDF_LINKS\"].isna()) & (plans_df[\"COMMENTS\"] != \"not found\")]"
   ]
  },
  {
   "cell_type": "code",
   "execution_count": 5,
   "id": "f896cda7",
   "metadata": {},
   "outputs": [
    {
     "data": {
      "text/plain": [
       "(262, 11)"
      ]
     },
     "execution_count": 5,
     "metadata": {},
     "output_type": "execute_result"
    }
   ],
   "source": [
    "plans_df.shape"
   ]
  },
  {
   "cell_type": "code",
   "execution_count": 6,
   "id": "3500a1f4",
   "metadata": {},
   "outputs": [
    {
     "data": {
      "application/vnd.microsoft.datawrangler.viewer.v0+json": {
       "columns": [
        {
         "name": "index",
         "rawType": "object",
         "type": "string"
        },
        {
         "name": "29",
         "rawType": "object",
         "type": "unknown"
        }
       ],
       "ref": "0324634d-f61a-4c0f-829f-55645c5fec1f",
       "rows": [
        [
         "index",
         "226"
        ],
        [
         "BIN_top10k",
         "610144"
        ],
        [
         "PCN_top10k",
         "ALBCASH"
        ],
        [
         "GRP_top10k",
         null
        ],
        [
         "PLAN_NAME",
         "CASH PLAN  ALBERTSONS"
        ],
        [
         "ROW_CNT",
         "13841956"
        ],
        [
         "RATIO",
         "0.000558"
        ],
        [
         "BPG_top10k",
         "610144ALBCASH(NULL)"
        ],
        [
         "COMMENTS",
         null
        ],
        [
         "PDF_LINKS",
         null
        ],
        [
         "Assigned_to",
         "Aditya"
        ]
       ],
       "shape": {
        "columns": 1,
        "rows": 11
       }
      },
      "text/plain": [
       "index                            226\n",
       "BIN_top10k                    610144\n",
       "PCN_top10k                   ALBCASH\n",
       "GRP_top10k                       NaN\n",
       "PLAN_NAME      CASH PLAN  ALBERTSONS\n",
       "ROW_CNT                     13841956\n",
       "RATIO                       0.000558\n",
       "BPG_top10k       610144ALBCASH(NULL)\n",
       "COMMENTS                         NaN\n",
       "PDF_LINKS                        NaN\n",
       "Assigned_to                   Aditya\n",
       "Name: 29, dtype: object"
      ]
     },
     "execution_count": 6,
     "metadata": {},
     "output_type": "execute_result"
    }
   ],
   "source": [
    "plans_df.iloc[0]"
   ]
  },
  {
   "cell_type": "code",
   "execution_count": 7,
   "id": "db1f4183",
   "metadata": {},
   "outputs": [
    {
     "data": {
      "application/vnd.microsoft.datawrangler.viewer.v0+json": {
       "columns": [
        {
         "name": "index",
         "rawType": "int64",
         "type": "integer"
        },
        {
         "name": "index",
         "rawType": "int64",
         "type": "integer"
        },
        {
         "name": "BIN_top10k",
         "rawType": "int64",
         "type": "integer"
        },
        {
         "name": "PCN_top10k",
         "rawType": "object",
         "type": "string"
        },
        {
         "name": "GRP_top10k",
         "rawType": "object",
         "type": "unknown"
        },
        {
         "name": "PLAN_NAME",
         "rawType": "object",
         "type": "unknown"
        },
        {
         "name": "ROW_CNT",
         "rawType": "int64",
         "type": "integer"
        },
        {
         "name": "RATIO",
         "rawType": "float64",
         "type": "float"
        },
        {
         "name": "BPG_top10k",
         "rawType": "object",
         "type": "string"
        },
        {
         "name": "COMMENTS",
         "rawType": "object",
         "type": "unknown"
        },
        {
         "name": "PDF_LINKS",
         "rawType": "object",
         "type": "unknown"
        },
        {
         "name": "Assigned_to",
         "rawType": "object",
         "type": "string"
        }
       ],
       "ref": "cfc6e162-a58d-4ca6-b80b-5c0261654117",
       "rows": [
        [
         "29",
         "226",
         "610144",
         "ALBCASH",
         null,
         "CASH PLAN  ALBERTSONS",
         "13841956",
         "0.000558",
         "610144ALBCASH(NULL)",
         null,
         null,
         "Aditya"
        ],
        [
         "31",
         "231",
         "9737",
         "P008009737",
         null,
         "MEDICAID MICHIGAN",
         "13579829",
         "0.000547",
         "009737P008009737(NULL)",
         null,
         null,
         "Aditya"
        ],
        [
         "34",
         "239",
         "610674",
         "ABARCAD",
         null,
         "MEDICARE PART D ABARCA HEALTH ABARCA D",
         "13108508",
         "0.000528",
         "610674ABARCAD(NULL)",
         null,
         null,
         "Aditya"
        ],
        [
         "37",
         "264",
         "17423",
         "IRX",
         "10042",
         null,
         "12277494",
         "0.000495",
         "017423IRX10042",
         null,
         null,
         "Aditya"
        ],
        [
         "41",
         "277",
         "4682",
         "CN",
         null,
         "THERAPY FIRST",
         "11803747",
         "0.000476",
         "004682CN(NULL)",
         null,
         null,
         "Aditya"
        ]
       ],
       "shape": {
        "columns": 11,
        "rows": 5
       }
      },
      "text/html": [
       "<div>\n",
       "<style scoped>\n",
       "    .dataframe tbody tr th:only-of-type {\n",
       "        vertical-align: middle;\n",
       "    }\n",
       "\n",
       "    .dataframe tbody tr th {\n",
       "        vertical-align: top;\n",
       "    }\n",
       "\n",
       "    .dataframe thead th {\n",
       "        text-align: right;\n",
       "    }\n",
       "</style>\n",
       "<table border=\"1\" class=\"dataframe\">\n",
       "  <thead>\n",
       "    <tr style=\"text-align: right;\">\n",
       "      <th></th>\n",
       "      <th>index</th>\n",
       "      <th>BIN_top10k</th>\n",
       "      <th>PCN_top10k</th>\n",
       "      <th>GRP_top10k</th>\n",
       "      <th>PLAN_NAME</th>\n",
       "      <th>ROW_CNT</th>\n",
       "      <th>RATIO</th>\n",
       "      <th>BPG_top10k</th>\n",
       "      <th>COMMENTS</th>\n",
       "      <th>PDF_LINKS</th>\n",
       "      <th>Assigned_to</th>\n",
       "    </tr>\n",
       "  </thead>\n",
       "  <tbody>\n",
       "    <tr>\n",
       "      <th>29</th>\n",
       "      <td>226</td>\n",
       "      <td>610144</td>\n",
       "      <td>ALBCASH</td>\n",
       "      <td>NaN</td>\n",
       "      <td>CASH PLAN  ALBERTSONS</td>\n",
       "      <td>13841956</td>\n",
       "      <td>0.000558</td>\n",
       "      <td>610144ALBCASH(NULL)</td>\n",
       "      <td>NaN</td>\n",
       "      <td>NaN</td>\n",
       "      <td>Aditya</td>\n",
       "    </tr>\n",
       "    <tr>\n",
       "      <th>31</th>\n",
       "      <td>231</td>\n",
       "      <td>9737</td>\n",
       "      <td>P008009737</td>\n",
       "      <td>NaN</td>\n",
       "      <td>MEDICAID MICHIGAN</td>\n",
       "      <td>13579829</td>\n",
       "      <td>0.000547</td>\n",
       "      <td>009737P008009737(NULL)</td>\n",
       "      <td>NaN</td>\n",
       "      <td>NaN</td>\n",
       "      <td>Aditya</td>\n",
       "    </tr>\n",
       "    <tr>\n",
       "      <th>34</th>\n",
       "      <td>239</td>\n",
       "      <td>610674</td>\n",
       "      <td>ABARCAD</td>\n",
       "      <td>NaN</td>\n",
       "      <td>MEDICARE PART D ABARCA HEALTH ABARCA D</td>\n",
       "      <td>13108508</td>\n",
       "      <td>0.000528</td>\n",
       "      <td>610674ABARCAD(NULL)</td>\n",
       "      <td>NaN</td>\n",
       "      <td>NaN</td>\n",
       "      <td>Aditya</td>\n",
       "    </tr>\n",
       "    <tr>\n",
       "      <th>37</th>\n",
       "      <td>264</td>\n",
       "      <td>17423</td>\n",
       "      <td>IRX</td>\n",
       "      <td>10042</td>\n",
       "      <td>NaN</td>\n",
       "      <td>12277494</td>\n",
       "      <td>0.000495</td>\n",
       "      <td>017423IRX10042</td>\n",
       "      <td>NaN</td>\n",
       "      <td>NaN</td>\n",
       "      <td>Aditya</td>\n",
       "    </tr>\n",
       "    <tr>\n",
       "      <th>41</th>\n",
       "      <td>277</td>\n",
       "      <td>4682</td>\n",
       "      <td>CN</td>\n",
       "      <td>NaN</td>\n",
       "      <td>THERAPY FIRST</td>\n",
       "      <td>11803747</td>\n",
       "      <td>0.000476</td>\n",
       "      <td>004682CN(NULL)</td>\n",
       "      <td>NaN</td>\n",
       "      <td>NaN</td>\n",
       "      <td>Aditya</td>\n",
       "    </tr>\n",
       "  </tbody>\n",
       "</table>\n",
       "</div>"
      ],
      "text/plain": [
       "    index  BIN_top10k  PCN_top10k GRP_top10k  \\\n",
       "29    226      610144     ALBCASH        NaN   \n",
       "31    231        9737  P008009737        NaN   \n",
       "34    239      610674     ABARCAD        NaN   \n",
       "37    264       17423         IRX      10042   \n",
       "41    277        4682          CN        NaN   \n",
       "\n",
       "                                 PLAN_NAME   ROW_CNT     RATIO  \\\n",
       "29                   CASH PLAN  ALBERTSONS  13841956  0.000558   \n",
       "31                       MEDICAID MICHIGAN  13579829  0.000547   \n",
       "34  MEDICARE PART D ABARCA HEALTH ABARCA D  13108508  0.000528   \n",
       "37                                     NaN  12277494  0.000495   \n",
       "41                           THERAPY FIRST  11803747  0.000476   \n",
       "\n",
       "                BPG_top10k COMMENTS PDF_LINKS Assigned_to  \n",
       "29     610144ALBCASH(NULL)      NaN       NaN      Aditya  \n",
       "31  009737P008009737(NULL)      NaN       NaN      Aditya  \n",
       "34     610674ABARCAD(NULL)      NaN       NaN      Aditya  \n",
       "37          017423IRX10042      NaN       NaN      Aditya  \n",
       "41          004682CN(NULL)      NaN       NaN      Aditya  "
      ]
     },
     "execution_count": 7,
     "metadata": {},
     "output_type": "execute_result"
    }
   ],
   "source": [
    "plans_df.head()"
   ]
  },
  {
   "cell_type": "code",
   "execution_count": 8,
   "id": "057cd554",
   "metadata": {},
   "outputs": [
    {
     "data": {
      "application/vnd.microsoft.datawrangler.viewer.v0+json": {
       "columns": [
        {
         "name": "index",
         "rawType": "object",
         "type": "string"
        },
        {
         "name": "0",
         "rawType": "object",
         "type": "unknown"
        }
       ],
       "ref": "e533beb0-a85b-4de6-b707-5182a69390c3",
       "rows": [
        [
         "index",
         "int64"
        ],
        [
         "BIN_top10k",
         "int64"
        ],
        [
         "PCN_top10k",
         "object"
        ],
        [
         "GRP_top10k",
         "object"
        ],
        [
         "PLAN_NAME",
         "object"
        ],
        [
         "ROW_CNT",
         "int64"
        ],
        [
         "RATIO",
         "float64"
        ],
        [
         "BPG_top10k",
         "object"
        ],
        [
         "COMMENTS",
         "object"
        ],
        [
         "PDF_LINKS",
         "object"
        ],
        [
         "Assigned_to",
         "object"
        ]
       ],
       "shape": {
        "columns": 1,
        "rows": 11
       }
      },
      "text/plain": [
       "index            int64\n",
       "BIN_top10k       int64\n",
       "PCN_top10k      object\n",
       "GRP_top10k      object\n",
       "PLAN_NAME       object\n",
       "ROW_CNT          int64\n",
       "RATIO          float64\n",
       "BPG_top10k      object\n",
       "COMMENTS        object\n",
       "PDF_LINKS       object\n",
       "Assigned_to     object\n",
       "dtype: object"
      ]
     },
     "execution_count": 8,
     "metadata": {},
     "output_type": "execute_result"
    }
   ],
   "source": [
    "plans_df.dtypes"
   ]
  },
  {
   "cell_type": "code",
   "execution_count": 9,
   "id": "edf176ef",
   "metadata": {},
   "outputs": [],
   "source": [
    "plans_df_test = plans_df.iloc[0:10]"
   ]
  },
  {
   "cell_type": "code",
   "execution_count": 10,
   "id": "2439bf75",
   "metadata": {},
   "outputs": [],
   "source": [
    "plans_df_rem = plans_df_test[[\"BIN_top10k\", \"PCN_top10k\", \"GRP_top10k\"]]"
   ]
  },
  {
   "cell_type": "code",
   "execution_count": 11,
   "id": "05f57544",
   "metadata": {},
   "outputs": [
    {
     "data": {
      "application/vnd.microsoft.datawrangler.viewer.v0+json": {
       "columns": [
        {
         "name": "index",
         "rawType": "int64",
         "type": "integer"
        },
        {
         "name": "BIN_top10k",
         "rawType": "int64",
         "type": "integer"
        },
        {
         "name": "PCN_top10k",
         "rawType": "object",
         "type": "string"
        },
        {
         "name": "GRP_top10k",
         "rawType": "object",
         "type": "unknown"
        }
       ],
       "ref": "605c5020-73d8-4e5e-88b9-9748253398dd",
       "rows": [
        [
         "29",
         "610144",
         "ALBCASH",
         null
        ],
        [
         "31",
         "9737",
         "P008009737",
         null
        ],
        [
         "34",
         "610674",
         "ABARCAD",
         null
        ],
        [
         "37",
         "17423",
         "IRX",
         "10042"
        ],
        [
         "41",
         "4682",
         "CN",
         null
        ],
        [
         "42",
         "610602",
         "MCD",
         null
        ],
        [
         "43",
         "4766",
         "USMCA",
         null
        ],
        [
         "46",
         "5526",
         "MEPOP",
         null
        ],
        [
         "47",
         "15599",
         "05440000",
         null
        ],
        [
         "48",
         "17010",
         "0215COMM",
         null
        ]
       ],
       "shape": {
        "columns": 3,
        "rows": 10
       }
      },
      "text/html": [
       "<div>\n",
       "<style scoped>\n",
       "    .dataframe tbody tr th:only-of-type {\n",
       "        vertical-align: middle;\n",
       "    }\n",
       "\n",
       "    .dataframe tbody tr th {\n",
       "        vertical-align: top;\n",
       "    }\n",
       "\n",
       "    .dataframe thead th {\n",
       "        text-align: right;\n",
       "    }\n",
       "</style>\n",
       "<table border=\"1\" class=\"dataframe\">\n",
       "  <thead>\n",
       "    <tr style=\"text-align: right;\">\n",
       "      <th></th>\n",
       "      <th>BIN_top10k</th>\n",
       "      <th>PCN_top10k</th>\n",
       "      <th>GRP_top10k</th>\n",
       "    </tr>\n",
       "  </thead>\n",
       "  <tbody>\n",
       "    <tr>\n",
       "      <th>29</th>\n",
       "      <td>610144</td>\n",
       "      <td>ALBCASH</td>\n",
       "      <td>NaN</td>\n",
       "    </tr>\n",
       "    <tr>\n",
       "      <th>31</th>\n",
       "      <td>9737</td>\n",
       "      <td>P008009737</td>\n",
       "      <td>NaN</td>\n",
       "    </tr>\n",
       "    <tr>\n",
       "      <th>34</th>\n",
       "      <td>610674</td>\n",
       "      <td>ABARCAD</td>\n",
       "      <td>NaN</td>\n",
       "    </tr>\n",
       "    <tr>\n",
       "      <th>37</th>\n",
       "      <td>17423</td>\n",
       "      <td>IRX</td>\n",
       "      <td>10042</td>\n",
       "    </tr>\n",
       "    <tr>\n",
       "      <th>41</th>\n",
       "      <td>4682</td>\n",
       "      <td>CN</td>\n",
       "      <td>NaN</td>\n",
       "    </tr>\n",
       "    <tr>\n",
       "      <th>42</th>\n",
       "      <td>610602</td>\n",
       "      <td>MCD</td>\n",
       "      <td>NaN</td>\n",
       "    </tr>\n",
       "    <tr>\n",
       "      <th>43</th>\n",
       "      <td>4766</td>\n",
       "      <td>USMCA</td>\n",
       "      <td>NaN</td>\n",
       "    </tr>\n",
       "    <tr>\n",
       "      <th>46</th>\n",
       "      <td>5526</td>\n",
       "      <td>MEPOP</td>\n",
       "      <td>NaN</td>\n",
       "    </tr>\n",
       "    <tr>\n",
       "      <th>47</th>\n",
       "      <td>15599</td>\n",
       "      <td>05440000</td>\n",
       "      <td>NaN</td>\n",
       "    </tr>\n",
       "    <tr>\n",
       "      <th>48</th>\n",
       "      <td>17010</td>\n",
       "      <td>0215COMM</td>\n",
       "      <td>NaN</td>\n",
       "    </tr>\n",
       "  </tbody>\n",
       "</table>\n",
       "</div>"
      ],
      "text/plain": [
       "    BIN_top10k  PCN_top10k GRP_top10k\n",
       "29      610144     ALBCASH        NaN\n",
       "31        9737  P008009737        NaN\n",
       "34      610674     ABARCAD        NaN\n",
       "37       17423         IRX      10042\n",
       "41        4682          CN        NaN\n",
       "42      610602         MCD        NaN\n",
       "43        4766       USMCA        NaN\n",
       "46        5526       MEPOP        NaN\n",
       "47       15599    05440000        NaN\n",
       "48       17010    0215COMM        NaN"
      ]
     },
     "execution_count": 11,
     "metadata": {},
     "output_type": "execute_result"
    }
   ],
   "source": [
    "plans_df_rem"
   ]
  },
  {
   "cell_type": "code",
   "execution_count": 12,
   "id": "270f2fc1",
   "metadata": {},
   "outputs": [],
   "source": [
    "import os\n",
    "import requests\n",
    "from urllib.parse import urlparse\n",
    "# from langchain_ollama import OllamaLLM\n",
    "# from langchain.prompts import PromptTemplate\n",
    "from ddgs import DDGS"
   ]
  },
  {
   "cell_type": "code",
   "execution_count": 13,
   "id": "6c6e9b10",
   "metadata": {},
   "outputs": [
    {
     "name": "stdout",
     "output_type": "stream",
     "text": [
      "\n",
      "Processing: 610144_ALBCASH_NA\n",
      "Base query: Bin 610144 PCN ALBCASH payer sheet\n",
      "Trying: Bin 610144 PCN ALBCASH payer sheet\n",
      "Downloaded: https://www.caremark.com/portal/asset/D0PayerSheetMEDDMSP.pdf\n",
      "Downloaded: https://www.aetna.com/document-library/pharmacy-insurance/healthcare-professional/documents/aetna-payer-sheet-commercial-2019.pdf\n",
      "Downloaded: https://corp-strapi.ascellahealth.com/uploads/Claim_Billing_and_Response_Payer_Sheet_BIN_s_017290_018448_019505_020503_020511_021957_effective_07_05_2023_4301d61186_916c3c4612.pdf\n",
      "\n",
      "Processing: 9737_P008009737_NA\n",
      "Base query: Bin 9737 PCN P008009737 payer sheet\n",
      "Trying: Bin 9737 PCN P008009737 payer sheet\n",
      "Downloaded: https://mi.primetherapeutics.com/provider/external/medicaid/mi/doc/en-us/MIRx_D0_claims_processing_manual.pdf\n",
      "\n",
      "Processing: 610674_ABARCAD_NA\n",
      "Base query: Bin 610674 PCN ABARCAD payer sheet\n",
      "Trying: Bin 610674 PCN ABARCAD payer sheet\n",
      "Downloaded: https://abarcahealth.com/wp-content/uploads/2023/06/2023-Provider-Manual.pdf\n",
      "Downloaded: https://abarcahealth.com/wp-content/uploads/2021/01/Abarca_FAQ_ENG.pdf\n",
      "Downloaded: https://dhcf.dc.gov/sites/default/files/dc/sites/dhcf/publication/attachments/Transmittal+20-38+-+72-hour+(3-day)+Emergency+Supply+of+Medication.pdf\n",
      "Downloaded: https://www.ncpdp.org/NCPDP/media/pdf/SPAP-ADAP-BIN-PCN-MASTER-NEW.xlsx\n",
      "Downloaded: https://professionals.optumrx.com/content/dam/optum3/professional-optumrx/resources/payer-sheets/Part+D+2015+BIN+PCN+and+Group+Processing+Info..pdf\n",
      "Downloaded: https://www.benecardpbf.com/PBF/resources/documents/Benecard_PBF_Payer_Sheet_2012_0101.pdf\n",
      "Downloaded: https://www.amerihealthcaritasla.com/pdf/pharmacy/payer-sheet.pdf\n",
      "Downloaded: https://www.cms.gov/medicare/prescription-drug-coverage/prescriptiondrugcovgenin/downloads/cy-2016-medicare-contract-plan-bin-pcn-v2182016.xls\n",
      "Failed to download https://www.pbahealth.com/wp-content/uploads/2014/12/2015-Plan-Listing.pdf: HTTPSConnectionPool(host='www.pbahealth.com', port=443): Max retries exceeded with url: /wp-content/uploads/2014/12/2015-Plan-Listing.pdf (Caused by SSLError(SSLCertVerificationError(1, '[SSL: CERTIFICATE_VERIFY_FAILED] certificate verify failed: self-signed certificate (_ssl.c:1028)')))\n",
      "Downloaded: https://www.wordandbrown.com/getmedia/8a3e1528-ed9a-4aa3-9991-10a2bf423681/WB-GA-1343420_Pharmacy-Bin_8-21.pdf\n",
      "\n",
      "Processing: 17423_IRX_10042\n",
      "Base query: Bin 17423 PCN IRX GroupID 10042 payer sheet\n",
      "Trying: Bin 17423 PCN IRX GroupID 10042 payer sheet\n",
      "Downloaded: https://professionals.optumrx.com/content/dam/optum3/professional-optumrx/resources/payer-sheets/D.0+Payer+Sheet+2024_Commercial_v01012024v6.pdf\n",
      "Downloaded: https://basilikosnomos.institute/wp-content/uploads/2023/09/BouvierLawDictionary-1856-Published-2001.pdf\n",
      "\n",
      "Processing: 4682_CN_NA\n",
      "Base query: Bin 4682 PCN CN payer sheet\n",
      "Trying: Bin 4682 PCN CN payer sheet\n",
      "Downloaded: https://www.caremark.com/portal/asset/D0PayerSheetCOM.pdf\n",
      "Downloaded: https://professionals.optumrx.com/content/dam/optum3/professional-optumrx/resources/payer-sheets/D-0-payer-sheet-2025-commercial-v01012025-v11.pdf\n",
      "Downloaded: https://www.welldyne.com/wp-content/uploads/2024/12/payer-sheet_v25-Commercial.pdf\n",
      "Downloaded: https://page.elixirsolutions.com/hubfs/ElixirInsurance/2025/Formulary/Archimedes-Elixir_D-0_payer_sheet.pdf\n",
      "Downloaded: https://www.sutab.com/media/HCP/201-231-v2_Sutab+Copay+Card+Instructions+HCP_2021.09.08+-+FINAL.pdf\n",
      "Downloaded: https://www.express-scripts.com/art/prc/NCPDP_vD0_Commercial_Combined_Payer_Sheet.pdf\n",
      "Downloaded: https://github.com/department-of-veterans-affairs/acronyms/blob/master/acronyms.csv\n",
      "\n",
      "Processing: 610602_MCD_NA\n",
      "Base query: Bin 610602 PCN MCD payer sheet\n",
      "Trying: Bin 610602 PCN MCD payer sheet\n",
      "Downloaded: https://www.txvendordrug.com/sites/default/files/docs/managed-care/prescriber-assistance-chart.pdf\n",
      "Downloaded: http://ec136126026ae0ee21c6-6b9280afdddbd69575967dcab27a2354.r32.cf2.rackcdn.com/uploaded/n/0e891049_navitus-unique-bin-and-pcn-bulletin.pdf\n",
      "Downloaded: https://www.oregon.gov/oha/HSD/OHP/tools/Oregon+Medicaid+Pharmacy+Quick+Reference.pdf\n",
      "Downloaded: http://www.ec136126026ae0ee21c6-6b9280afdddbd69575967dcab27a2354.r32.cf2.rackcdn.com/uploaded/c/0e866125_commercial-plan-list.pdf\n",
      "Downloaded: https://driscollhealthplan.com/wp-content/uploads/DHP-Provider-Manual_September-2024.pdf\n",
      "Downloaded: http://www.dbsrxdata.com/software/documents/payorlist.pdf\n",
      "Downloaded: http://www.elpasohealth.com/pdf/pharmacyprovidermanual.pdf\n",
      "\n",
      "Processing: 4766_USMCA_NA\n",
      "Base query: Bin 4766 PCN USMCA payer sheet\n",
      "Trying: Bin 4766 PCN USMCA payer sheet\n",
      "No files found.\n",
      "\n",
      "Processing: 5526_MEPOP_NA\n",
      "Base query: Bin 5526 PCN MEPOP payer sheet\n",
      "Trying: Bin 5526 PCN MEPOP payer sheet\n",
      "Downloaded: https://www.caremark.com/portal/asset/D0PayerSheetCOM.pdf\n",
      "Downloaded: https://www.mainecarepdl.org/content/dam/ffs-medicare/me/payer/mepop-medel-merx-payer-sheet.pdf\n",
      "Downloaded: https://a8af0b.p3cdn2.secureserver.net/wp-content/uploads/2024/03/02.21.2024-Change-Healthcare.pdf\n",
      "Downloaded: https://professionals.optumrx.com/content/dam/optum3/professional-optumrx/resources/payer-sheets/D-0-payer-sheet-2025-commercial-v01012025-v9.pdf\n",
      "Downloaded: https://www.mainecarepdl.org/content/dam/ffs-medicare/me/provider-newsletter-01012025-pdl-changes.pdf\n",
      "Downloaded: https://www.wordandbrown.com/getmedia/8a3e1528-ed9a-4aa3-9991-10a2bf423681/WB-GA-1343420_Pharmacy-Bin_8-21.pdf\n",
      "Downloaded: https://www.express-scripts.com/art/prc/NCPDP_vD0_MEDICARE_Combined_Payer_Sheet.pdf\n",
      "\n",
      "Processing: 15599_05440000_NA\n",
      "Base query: Bin 15599 PCN 05440000 payer sheet\n",
      "Trying: Bin 15599 PCN 05440000 payer sheet\n",
      "Downloaded: https://www.cms.gov/files/document/medicarelinetbrochurefinal09182012508pdf.pdf\n",
      "Downloaded: https://www.caremark.com/portal/asset/D0PayerSheetMEDDOPAP.pdf\n",
      "Downloaded: https://www.welldyne.com/wp-content/uploads/2024/12/payer-sheet_v25-Commercial.pdf\n",
      "Downloaded: https://www.caremark.com/portal/asset/D0PayerSheetMcdPrimary.pdf\n",
      "Failed to download https://www.pbahealth.com/wp-content/uploads/2014/12/2015-Plan-Listing.pdf: HTTPSConnectionPool(host='www.pbahealth.com', port=443): Max retries exceeded with url: /wp-content/uploads/2014/12/2015-Plan-Listing.pdf (Caused by SSLError(SSLCertVerificationError(1, '[SSL: CERTIFICATE_VERIFY_FAILED] certificate verify failed: self-signed certificate (_ssl.c:1028)')))\n",
      "Downloaded: https://www.cms.gov/medicare/prescription-drug-coverage/prescriptiondrugcovgenin/downloads/cy-2016-medicare-contract-plan-bin-pcn-v2182016.xls\n",
      "\n",
      "Processing: 17010_0215COMM_NA\n",
      "Base query: Bin 17010 PCN 0215COMM payer sheet\n",
      "Trying: Bin 17010 PCN 0215COMM payer sheet\n",
      "Downloaded: https://www.express-scripts.com/art/prc/NCPDP_vD0_Commercial_Combined_Payer_Sheet.pdf\n",
      "Downloaded: https://www.express-scripts.com/art/prc/CignaCommercialPharmacyNetworkUpgradeReminder.pdf\n",
      "Downloaded: https://www.welldyne.com/wp-content/uploads/2024/12/payer-sheet_v25-Commercial.pdf\n",
      "Downloaded: https://www.express-scripts.com/art/prc/CignaCommercialPharmacyplansmovingtoExpressScripts_March_1.pdf\n",
      "Downloaded: https://www.caremark.com/portal/asset/D0PayerSheetCOM.pdf\n",
      "Failed to download https://pdmi.com/media/6a6da6d8-e094-48b1-92f3-49607b862346/2N0__g/pdfs/PDMI-D.0-Commercial-COB-Scenario2-Payer-Sheet_REV_202112.pdf: HTTPSConnectionPool(host='pdmi.com', port=443): Max retries exceeded with url: /media/6a6da6d8-e094-48b1-92f3-49607b862346/2N0__g/pdfs/PDMI-D.0-Commercial-COB-Scenario2-Payer-Sheet_REV_202112.pdf (Caused by ConnectTimeoutError(<urllib3.connection.HTTPSConnection object at 0x000002A99B38BC50>, 'Connection to pdmi.com timed out. (connect timeout=10)'))\n",
      "Downloaded: https://www.express-scripts.com/art/prc/NCPDP_vD0_MEDICAID_Payer_Sheet.pdf\n"
     ]
    }
   ],
   "source": [
    "# Create folders\n",
    "PDF_FOLDER = \"output/pdfs\"\n",
    "EXCEL_FOLDER = \"output/excels\"\n",
    "os.makedirs(PDF_FOLDER, exist_ok=True)\n",
    "os.makedirs(EXCEL_FOLDER, exist_ok=True)\n",
    "\n",
    "\n",
    "# Initialize Ollama LLM (make sure Ollama is running!)\n",
    "# llm = OllamaLLM(model=\"phi3\")\n",
    "\n",
    "# Helper: classify file type\n",
    "def get_file_type(url):\n",
    "    url = url.lower()\n",
    "    if \".pdf\" in url:\n",
    "        return \"pdf\"\n",
    "    if any(ext in url for ext in [\".xls\", \".xlsx\", \".csv\"]):\n",
    "        return \"excel\"\n",
    "    return None\n",
    "\n",
    "# Helper: download file\n",
    "def download_file(url, save_dir, prefix):\n",
    "    try:\n",
    "        response = requests.get(url, timeout=10)\n",
    "        filename = os.path.basename(urlparse(url).path)\n",
    "\n",
    "        # Add prefix (BIN-PCN-GRP) to filename to track its origin\n",
    "        filename = f\"{prefix}_{filename}\"\n",
    "        filepath = os.path.join(save_dir, filename)\n",
    "\n",
    "        with open(filepath, \"wb\") as f:\n",
    "            f.write(response.content)\n",
    "        print(f\"Downloaded: {url}\")\n",
    "    except Exception as e:\n",
    "        print(f\"Failed to download {url}: {e}\")\n",
    "\n",
    "\n",
    "for idx, row in plans_df_test.iterrows():\n",
    "    # Get fields, use \"NA\" if PCN or GRP is missing\n",
    "    bin_ = str(row['BIN_top10k']).strip()\n",
    "    pcn = str(row['PCN_top10k']).strip() if pd.notna(row['PCN_top10k']) else \"NA\"\n",
    "    grp = str(row['GRP_top10k']).strip() if pd.notna(row['GRP_top10k']) else \"NA\"\n",
    "\n",
    "    # For folder and filename consistency\n",
    "    plan_id = f\"{bin_}_{pcn}_{grp}\"\n",
    "\n",
    "    # Build the base query dynamically\n",
    "    query_parts = [f\"Bin {bin_}\"]\n",
    "    if pcn != \"NA\":\n",
    "        query_parts.append(f\"PCN {pcn}\")\n",
    "    if grp != \"NA\":\n",
    "        query_parts.append(f\"GroupID {grp}\")\n",
    "    base_query = \" \".join(query_parts) + \" payer sheet\"\n",
    "\n",
    "    print(f\"\\nProcessing: {plan_id}\")\n",
    "    print(f\"Base query: {base_query}\")\n",
    "\n",
    "    # Ask LLM for refined queries\n",
    "    # prompt = PromptTemplate.from_template(\n",
    "    #     \"Suggest 3 good search queries to find PDF or Excel payer sheet documents for this insurance plan:\\n\\nQuery: {query}\"\n",
    "    # )\n",
    "    # response = llm.invoke(prompt.format(query=base_query))\n",
    "    # refined_queries = [q.strip() for q in response.strip().split(\"\\n\") if q.strip()]\n",
    "    queries = [base_query] \n",
    "    # + refined_queries\n",
    "\n",
    "    # Create plan-specific folders\n",
    "    plan_pdf_folder = os.path.join(PDF_FOLDER, plan_id)\n",
    "    plan_excel_folder = os.path.join(EXCEL_FOLDER, plan_id)\n",
    "    os.makedirs(plan_pdf_folder, exist_ok=True)\n",
    "    os.makedirs(plan_excel_folder, exist_ok=True)\n",
    "\n",
    "    # Search and download\n",
    "    with DDGS() as ddgs:\n",
    "        found = False\n",
    "        for q in queries:\n",
    "            print(f\"Trying: {q}\")\n",
    "            results = ddgs.text(q, max_results=10)\n",
    "            for r in results:\n",
    "                url = r.get(\"href\") or r.get(\"url\")\n",
    "                if not url:\n",
    "                    continue\n",
    "                ftype = get_file_type(url)\n",
    "                if ftype == \"pdf\":\n",
    "                    download_file(url, plan_pdf_folder, plan_id)\n",
    "                    found = True\n",
    "                elif ftype == \"excel\":\n",
    "                    download_file(url, plan_excel_folder, plan_id)\n",
    "                    found = True\n",
    "            if found:\n",
    "                break\n",
    "        if not found:\n",
    "            print(\"No files found.\")"
   ]
  },
  {
   "cell_type": "code",
   "execution_count": null,
   "id": "ad8ae113",
   "metadata": {},
   "outputs": [],
   "source": []
  }
 ],
 "metadata": {
  "kernelspec": {
   "display_name": "pdf_venv",
   "language": "python",
   "name": "python3"
  },
  "language_info": {
   "codemirror_mode": {
    "name": "ipython",
    "version": 3
   },
   "file_extension": ".py",
   "mimetype": "text/x-python",
   "name": "python",
   "nbconvert_exporter": "python",
   "pygments_lexer": "ipython3",
   "version": "3.13.5"
  }
 },
 "nbformat": 4,
 "nbformat_minor": 5
}
